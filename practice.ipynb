{
 "cells": [
  {
   "attachments": {},
   "cell_type": "markdown",
   "metadata": {},
   "source": [
    "# Deep Learning Practice with Python"
   ]
  },
  {
   "attachments": {},
   "cell_type": "markdown",
   "metadata": {},
   "source": [
    "### Vectorization"
   ]
  },
  {
   "cell_type": "code",
   "execution_count": null,
   "metadata": {},
   "outputs": [],
   "source": [
    "import numpy as np\n",
    "import time\n",
    "\n",
    "a = np.random.rand(1000000)\n",
    "c = np.random.rand(1000000)\n",
    "\n",
    "tic = time.time()\n",
    "j = np.dot(a, c)\n",
    "toc = time.time()\n",
    "print(j)\n",
    "print(f\"vectorization time required {toc - tic} ms\")"
   ]
  },
  {
   "cell_type": "code",
   "execution_count": null,
   "metadata": {},
   "outputs": [],
   "source": [
    "tic = time.time()\n",
    "j = 0\n",
    "for i in range(1000000):\n",
    "  j += a[i] * c[i]\n",
    "\n",
    "toc = time.time()\n",
    "print(j)\n",
    "print(f\"Loop time required {toc - tic} ms\")\n"
   ]
  },
  {
   "attachments": {},
   "cell_type": "markdown",
   "metadata": {},
   "source": [
    "### Eliminating explicit `for` loops\n",
    "We can use numpy to eleminate explicit for loop. This is called vectorization.\n",
    "For example,\n",
    "```py\n",
    "    import numpy as np\n",
    "    a = np.array([1, 2, 3, 4])\n",
    "    b = np.zeros(4)\n",
    "    for i in range(len(a)):\n",
    "        b[i] = exp(a[i])\n",
    "```\n",
    "Instead of using the for loop in the above code, we can use vectorization as follows:\n",
    "```py\n",
    "    b = np.exp(a)\n",
    "```"
   ]
  },
  {
   "cell_type": "code",
   "execution_count": 11,
   "metadata": {},
   "outputs": [
    {
     "name": "stdout",
     "output_type": "stream",
     "text": [
      "[0.99708094 0.77200488 0.28916807 0.02761593 0.19655654 0.98568535\n",
      " 0.81325183 0.47251332 0.61582071 0.98130091]\n",
      "[0.37144922 0.98305349 0.51313961 0.12477931 0.65214988 0.35260995\n",
      " 0.36853514 0.85482349 0.04781707 0.51059492]\n",
      "2.990984676148329\n"
     ]
    }
   ],
   "source": [
    "b = np.random.rand(10)\n",
    "d = np.random.rand(10)\n",
    "\n",
    "print(b)\n",
    "print(d)\n",
    "\n",
    "result = np.matmul(b.T, d)\n",
    "print(result)"
   ]
  },
  {
   "attachments": {},
   "cell_type": "markdown",
   "metadata": {},
   "source": [
    "### Broadcasting\n",
    "In this example, we want to compute the percentage of calories for Cub, Protein, Fat (rows) in Apples, Beef, Eggs, Potatoes (columns) without using explicit for loops."
   ]
  },
  {
   "cell_type": "code",
   "execution_count": 13,
   "metadata": {},
   "outputs": [
    {
     "name": "stdout",
     "output_type": "stream",
     "text": [
      "[[ 56.    0.    4.4  68. ]\n",
      " [  1.2 104.   52.    8. ]\n",
      " [  1.8 135.   99.    0.9]]\n"
     ]
    }
   ],
   "source": [
    "A = np.array([\n",
    "    [56.0, 0.0, 4.4, 68.0],\n",
    "    [1.2, 104.0, 52.0, 8.0],\n",
    "    [1.8, 135.0, 99.0, 0.9]\n",
    "])\n",
    "\n",
    "print(A)"
   ]
  },
  {
   "cell_type": "code",
   "execution_count": 14,
   "metadata": {},
   "outputs": [
    {
     "name": "stdout",
     "output_type": "stream",
     "text": [
      "[ 59.  239.  155.4  76.9]\n"
     ]
    }
   ],
   "source": [
    "# Summing column wise to find total calories of each food item\n",
    "cal = A.sum(axis = 0) \n",
    "print(cal)"
   ]
  },
  {
   "cell_type": "code",
   "execution_count": 15,
   "metadata": {},
   "outputs": [
    {
     "name": "stdout",
     "output_type": "stream",
     "text": [
      "[[94.91525424  0.          2.83140283 88.42652796]\n",
      " [ 2.03389831 43.51464435 33.46203346 10.40312094]\n",
      " [ 3.05084746 56.48535565 63.70656371  1.17035111]]\n"
     ]
    }
   ],
   "source": [
    "percentage = 100 * A/cal.reshape(1, 4) # reshape transforms row matrix to column\n",
    "print(percentage)"
   ]
  },
  {
   "attachments": {},
   "cell_type": "markdown",
   "metadata": {},
   "source": [
    "### A note on Python/Numpy vectors\n",
    "Generally, while adding a row vector with a column vector, we need to transpose the row vector. However, in Python/Numpy, we can add a row vector with a column vector without transposing the row vector. This might create unexpected results if we are not careful. Here are some tricks to minimize these logical errors:"
   ]
  },
  {
   "cell_type": "code",
   "execution_count": 16,
   "metadata": {},
   "outputs": [
    {
     "name": "stdout",
     "output_type": "stream",
     "text": [
      "[ 1.25983996  0.20994328 -0.39356585  1.41032523  1.3587906 ]\n"
     ]
    }
   ],
   "source": [
    "a = np.random.randn(5)\n",
    "print(a)"
   ]
  },
  {
   "cell_type": "code",
   "execution_count": 17,
   "metadata": {},
   "outputs": [
    {
     "name": "stdout",
     "output_type": "stream",
     "text": [
      "(5,)\n"
     ]
    }
   ],
   "source": [
    "print(a.shape)"
   ]
  },
  {
   "cell_type": "code",
   "execution_count": 18,
   "metadata": {},
   "outputs": [
    {
     "name": "stdout",
     "output_type": "stream",
     "text": [
      "[ 1.25983996  0.20994328 -0.39356585  1.41032523  1.3587906 ]\n"
     ]
    }
   ],
   "source": [
    "print(a.T)"
   ]
  },
  {
   "cell_type": "code",
   "execution_count": 19,
   "metadata": {},
   "outputs": [
    {
     "name": "stdout",
     "output_type": "stream",
     "text": [
      "5.6214961233403455\n"
     ]
    }
   ],
   "source": [
    "print(np.dot(a, a.T))"
   ]
  },
  {
   "attachments": {},
   "cell_type": "markdown",
   "metadata": {},
   "source": [
    "In the above example, `a` and `a.T` looks the same. And the dot product outputs a number. This is because we have used `np.random.randn(5)`. Because it creates a datastructure of `a.shape = (5,)`. But if we use `np.random.randn(5, 1)`, then it will create a datastructure of `a.shape = (5,1)`. And the dot product will output a vector."
   ]
  },
  {
   "cell_type": "code",
   "execution_count": 20,
   "metadata": {},
   "outputs": [
    {
     "name": "stdout",
     "output_type": "stream",
     "text": [
      "[[ 0.19017918]\n",
      " [-0.58789109]\n",
      " [-0.51846927]\n",
      " [-0.20603012]\n",
      " [-1.5858999 ]]\n"
     ]
    }
   ],
   "source": [
    "a = np.random.randn(5, 1)\n",
    "print(a)"
   ]
  },
  {
   "cell_type": "code",
   "execution_count": 21,
   "metadata": {},
   "outputs": [
    {
     "name": "stdout",
     "output_type": "stream",
     "text": [
      "[[ 0.19017918 -0.58789109 -0.51846927 -0.20603012 -1.5858999 ]]\n"
     ]
    }
   ],
   "source": [
    "print(a.T)"
   ]
  },
  {
   "cell_type": "code",
   "execution_count": 22,
   "metadata": {},
   "outputs": [
    {
     "name": "stdout",
     "output_type": "stream",
     "text": [
      "[[ 0.03616812 -0.11180464 -0.09860206 -0.03918264 -0.30160514]\n",
      " [-0.11180464  0.34561593  0.30480346  0.12112327  0.93233642]\n",
      " [-0.09860206  0.30480346  0.26881038  0.10682029  0.82224036]\n",
      " [-0.03918264  0.12112327  0.10682029  0.04244841  0.32674315]\n",
      " [-0.30160514  0.93233642  0.82224036  0.32674315  2.51507849]]\n"
     ]
    }
   ],
   "source": [
    "print(np.dot(a, a.T))"
   ]
  },
  {
   "cell_type": "code",
   "execution_count": null,
   "metadata": {},
   "outputs": [],
   "source": []
  }
 ],
 "metadata": {
  "kernelspec": {
   "display_name": "Python 3",
   "language": "python",
   "name": "python3"
  },
  "language_info": {
   "codemirror_mode": {
    "name": "ipython",
    "version": 3
   },
   "file_extension": ".py",
   "mimetype": "text/x-python",
   "name": "python",
   "nbconvert_exporter": "python",
   "pygments_lexer": "ipython3",
   "version": "3.9.1"
  },
  "orig_nbformat": 4
 },
 "nbformat": 4,
 "nbformat_minor": 2
}
