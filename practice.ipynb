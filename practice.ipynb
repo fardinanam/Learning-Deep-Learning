{
 "cells": [
  {
   "attachments": {},
   "cell_type": "markdown",
   "metadata": {},
   "source": [
    "# Deep Learning Practice with Python"
   ]
  },
  {
   "attachments": {},
   "cell_type": "markdown",
   "metadata": {},
   "source": [
    "### Vectorization"
   ]
  },
  {
   "cell_type": "code",
   "execution_count": null,
   "metadata": {},
   "outputs": [],
   "source": [
    "import numpy as np\n",
    "import time\n",
    "\n",
    "a = np.random.rand(1000000)\n",
    "c = np.random.rand(1000000)\n",
    "\n",
    "tic = time.time()\n",
    "j = np.dot(a, c)\n",
    "toc = time.time()\n",
    "print(j)\n",
    "print(f\"vectorization time required {toc - tic} ms\")"
   ]
  },
  {
   "cell_type": "code",
   "execution_count": null,
   "metadata": {},
   "outputs": [],
   "source": [
    "tic = time.time()\n",
    "j = 0\n",
    "for i in range(1000000):\n",
    "  j += a[i] * c[i]\n",
    "\n",
    "toc = time.time()\n",
    "print(j)\n",
    "print(f\"Loop time required {toc - tic} ms\")\n"
   ]
  },
  {
   "attachments": {},
   "cell_type": "markdown",
   "metadata": {},
   "source": [
    "### Eliminating explicit `for` loops\n",
    "We can use numpy to eleminate explicit for loop. This is called vectorization.\n",
    "For example,\n",
    "```py\n",
    "    import numpy as np\n",
    "    a = np.array([1, 2, 3, 4])\n",
    "    b = np.zeros(4)\n",
    "    for i in range(len(a)):\n",
    "        b[i] = exp(a[i])\n",
    "```\n",
    "Instead of using the for loop in the above code, we can use vectorization as follows:\n",
    "```py\n",
    "    b = np.exp(a)\n",
    "```"
   ]
  },
  {
   "cell_type": "code",
   "execution_count": null,
   "metadata": {},
   "outputs": [],
   "source": [
    "b = np.random.rand(10)\n",
    "d = np.random.rand(10)\n",
    "\n",
    "print(b)\n",
    "print(d)\n",
    "\n",
    "result = np.matmul(b.T, d)\n",
    "print(result)"
   ]
  },
  {
   "attachments": {},
   "cell_type": "markdown",
   "metadata": {},
   "source": [
    "### Broadcasting\n",
    "In this example, we want to compute the percentage of calories for Cub, Protein, Fat (rows) in Apples, Beef, Eggs, Potatoes (columns) without using explicit for loops."
   ]
  },
  {
   "cell_type": "code",
   "execution_count": null,
   "metadata": {},
   "outputs": [],
   "source": [
    "A = np.array([\n",
    "    [56.0, 0.0, 4.4, 68.0],\n",
    "    [1.2, 104.0, 52.0, 8.0],\n",
    "    [1.8, 135.0, 99.0, 0.9]\n",
    "])\n",
    "\n",
    "print(A)"
   ]
  },
  {
   "cell_type": "code",
   "execution_count": null,
   "metadata": {},
   "outputs": [],
   "source": [
    "# Summing column wise to find total calories of each food item\n",
    "cal = A.sum(axis = 0) \n",
    "print(cal)"
   ]
  },
  {
   "cell_type": "code",
   "execution_count": null,
   "metadata": {},
   "outputs": [],
   "source": [
    "percentage = 100 * A/cal.reshape(1, 4) # reshape transforms row matrix to column\n",
    "print(percentage)"
   ]
  },
  {
   "attachments": {},
   "cell_type": "markdown",
   "metadata": {},
   "source": [
    "### A note on Python/Numpy vectors\n",
    "Generally, while adding a row vector with a column vector, we need to transpose the row vector. However, in Python/Numpy, we can add a row vector with a column vector without transposing the row vector. This might create unexpected results if we are not careful. Here are some tricks to minimize these logical errors:"
   ]
  },
  {
   "cell_type": "code",
   "execution_count": null,
   "metadata": {},
   "outputs": [],
   "source": [
    "a = np.random.randn(5)\n",
    "print(a)"
   ]
  },
  {
   "cell_type": "code",
   "execution_count": null,
   "metadata": {},
   "outputs": [],
   "source": [
    "print(a.shape)"
   ]
  },
  {
   "cell_type": "code",
   "execution_count": null,
   "metadata": {},
   "outputs": [],
   "source": [
    "print(a.T)"
   ]
  },
  {
   "cell_type": "code",
   "execution_count": null,
   "metadata": {},
   "outputs": [],
   "source": [
    "print(np.dot(a, a.T))"
   ]
  },
  {
   "attachments": {},
   "cell_type": "markdown",
   "metadata": {},
   "source": [
    "In the above example, `a` and `a.T` looks the same. And the dot product outputs a number. This is because we have used `np.random.randn(5)`. Because it creates a datastructure of `a.shape = (5,)`. But if we use `np.random.randn(5, 1)`, then it will create a datastructure of `a.shape = (5,1)`. And the dot product will output a vector."
   ]
  },
  {
   "cell_type": "code",
   "execution_count": null,
   "metadata": {},
   "outputs": [],
   "source": [
    "a = np.random.randn(5, 1)\n",
    "print(a)"
   ]
  },
  {
   "cell_type": "code",
   "execution_count": null,
   "metadata": {},
   "outputs": [],
   "source": [
    "print(a.T)"
   ]
  }
 ],
 "metadata": {
  "kernelspec": {
   "display_name": "Python 3",
   "language": "python",
   "name": "python3"
  },
  "language_info": {
   "codemirror_mode": {
    "name": "ipython",
    "version": 3
   },
   "file_extension": ".py",
   "mimetype": "text/x-python",
   "name": "python",
   "nbconvert_exporter": "python",
   "pygments_lexer": "ipython3",
   "version": "3.9.1"
  },
  "orig_nbformat": 4
 },
 "nbformat": 4,
 "nbformat_minor": 2
}
